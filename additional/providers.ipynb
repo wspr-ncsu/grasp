{
 "cells": [
  {
   "cell_type": "code",
   "execution_count": 4,
   "metadata": {},
   "outputs": [
    {
     "name": "stdout",
     "output_type": "stream",
     "text": [
      "1064 candidate ymls found.\n",
      "{'aws': 1062, 'None': 1, 'cloud_provider': 1}\n"
     ]
    }
   ],
   "source": [
    "import os\n",
    "import traceback\n",
    "import yaml\n",
    "from pathlib import Path\n",
    "import pandas as pd\n",
    "\n",
    "total_count = 0\n",
    "provider_count = {}\n",
    "\n",
    "def parse_provider(config):\n",
    "    if 'provider' not in config:\n",
    "        return None\n",
    "\n",
    "    provider = config['provider']\n",
    "\n",
    "    if not isinstance(provider, dict):\n",
    "        return None\n",
    "\n",
    "    if 'name' in provider:\n",
    "        return provider['name']\n",
    "\n",
    "    return None\n",
    "\n",
    "\n",
    "\n",
    "def process_project(project_path):\n",
    "    global total_count\n",
    "    global provider_count\n",
    "\n",
    "    for path in Path(project_path).rglob('*serverless*.y*ml'):\n",
    "        total_count += 1\n",
    "\n",
    "        with open(path, 'r') as file:\n",
    "            try:\n",
    "                config = yaml.safe_load(file)\n",
    "                if not isinstance(config, dict):\n",
    "                    continue\n",
    "\n",
    "                provider = parse_provider(config)\n",
    "                if not provider in provider_count:\n",
    "                    provider_count[provider] = 0\n",
    "                provider_count[provider] += 1\n",
    "            except yaml.constructor.ConstructorError:\n",
    "                continue\n",
    "            except yaml.scanner.ScannerError:\n",
    "                continue\n",
    "            except yaml.composer.ComposerError:\n",
    "                continue\n",
    "            except yaml.parser.ParserError:\n",
    "                continue\n",
    "            except Exception as e:\n",
    "                print(traceback.format_exc())\n",
    "                continue\n",
    "\n",
    "\n",
    "if __name__ == '__main__':\n",
    "    users = [f.path for f in os.scandir('/data/serverless-dataset') if f.is_dir()]\n",
    "    projects = []\n",
    "    for user in users:\n",
    "        projects += [f.path for f in os.scandir(user) if f.is_dir()]\n",
    "\n",
    "    print('{} Projects found.'.format(len(projects)))\n",
    "\n",
    "    permissions = {}\n",
    "\n",
    "    for project in projects:\n",
    "        process_project(project)\n",
    "\n",
    "    print('{} candidate ymls found.'.format(total_count))\n",
    "    print(provider_count)"
   ]
  }
 ],
 "metadata": {
  "kernelspec": {
   "display_name": "Python 3",
   "language": "python",
   "name": "python3"
  },
  "language_info": {
   "codemirror_mode": {
    "name": "ipython",
    "version": 3
   },
   "file_extension": ".py",
   "mimetype": "text/x-python",
   "name": "python",
   "nbconvert_exporter": "python",
   "pygments_lexer": "ipython3",
   "version": "3.8.10"
  },
  "orig_nbformat": 4,
  "vscode": {
   "interpreter": {
    "hash": "916dbcbb3f70747c44a77c7bcd40155683ae19c65e1c03b4aa3499c5328201f1"
   }
  }
 },
 "nbformat": 4,
 "nbformat_minor": 2
}
