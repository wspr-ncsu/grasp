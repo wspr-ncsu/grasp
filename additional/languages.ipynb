{
 "cells": [
  {
   "cell_type": "code",
   "execution_count": 1,
   "metadata": {},
   "outputs": [],
   "source": [
    "#!/usr/bin/env python\n",
    "import pandas as pd\n",
    "\n",
    "df = pd.read_csv('../results/langs.csv')"
   ]
  },
  {
   "cell_type": "markdown",
   "metadata": {},
   "source": [
    "# Count of languages"
   ]
  },
  {
   "cell_type": "code",
   "execution_count": 8,
   "metadata": {},
   "outputs": [
    {
     "data": {
      "text/plain": [
       "Top Language\n",
       "JavaScript    826\n",
       "TypeScript    246\n",
       "Python        212\n",
       "Go             67\n",
       "Java           36\n",
       "HTML           32\n",
       "Vue            22\n",
       "PHP            21\n",
       "Shell          20\n",
       "HCL            17\n",
       "Rust           16\n",
       "C#             16\n",
       "Jupyter        13\n",
       "Ruby            9\n",
       "CSS             8\n",
       "Kotlin          7\n",
       "C++             6\n",
       "Swift           6\n",
       "Dockerfile      6\n",
       "Clojure         5\n",
       "Scala           4\n",
       "PowerShell      4\n",
       "Makefile        4\n",
       "OCaml           3\n",
       "SCSS            2\n",
       "PureScript      2\n",
       "PLpgSQL         2\n",
       "Haskell         2\n",
       "Lua             2\n",
       "Jinja           2\n",
       "Groovy          2\n",
       "Crystal         2\n",
       "Rich            1\n",
       "CUE             1\n",
       "Svelte          1\n",
       "CodeQL          1\n",
       "Perl            1\n",
       "Reason          1\n",
       "Pug             1\n",
       "Haxe            1\n",
       "Nunjucks        1\n",
       "Mustache        1\n",
       "Elixir          1\n",
       "Elm             1\n",
       "Jsonnet         1\n",
       "F#              1\n",
       "Batchfile       1\n",
       "dtype: int64"
      ]
     },
     "execution_count": 8,
     "metadata": {},
     "output_type": "execute_result"
    }
   ],
   "source": [
    "df.groupby(['Top Language']).size().sort_values(ascending=False)"
   ]
  }
 ],
 "metadata": {
  "interpreter": {
   "hash": "916dbcbb3f70747c44a77c7bcd40155683ae19c65e1c03b4aa3499c5328201f1"
  },
  "kernelspec": {
   "display_name": "my-env",
   "language": "python",
   "name": "my-env"
  },
  "language_info": {
   "codemirror_mode": {
    "name": "ipython",
    "version": 3
   },
   "file_extension": ".py",
   "mimetype": "text/x-python",
   "name": "python",
   "nbconvert_exporter": "python",
   "pygments_lexer": "ipython3",
   "version": "3.11.3"
  }
 },
 "nbformat": 4,
 "nbformat_minor": 4
}
